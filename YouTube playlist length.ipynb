{
 "cells": [
  {
   "cell_type": "code",
   "execution_count": null,
   "metadata": {},
   "outputs": [],
   "source": [
    "import requests\n",
    "from bs4 import BeautifulSoup\n",
    "import re\n",
    "import pandas as pd \n",
    "\n",
    "r = requests.get('https://www.youtube.com/playlist?list=PLmmc_Sy1OV2JpAOi6RGd4sB4npoZnCtVn')\n",
    "soup = BeautifulSoup(r.text,'html.parser')\n",
    "\n",
    "title_results = soup.find_all('a', attrs={'class':'pl-video-title-link'})\n",
    "timestamp_results = soup.find_all('div', attrs={'class':'timestamp'})\n",
    "\n",
    "timestamps = []\n",
    "seconds = []\n",
    "titles = []\n",
    "\n",
    "\n",
    "for ts_result in timestamp_results:\n",
    "    ts = ts_result.find(\"span\")\n",
    "    ts = str(ts.contents[0])\n",
    "    sc = (int(re.split(':',ts)[0])*60)+(int(re.split(':',ts)[1]))\n",
    "    seconds.append(sc)\n",
    "    timestamps.append(ts)\n",
    "\n",
    "    \n",
    "for tl_result in title_results:\n",
    "    tl = tl_result.contents[0].strip()\n",
    "    titles.append(tl)\n",
    "\n",
    "    \n",
    "records = {'Title':titles,'Length':timestamps,'Seconds':seconds}\n",
    "\n",
    "\n",
    "df = pd.DataFrame(records)\n",
    "df['RT'] = df['Seconds'].cumsum()\n",
    "\n",
    "\n",
    "df['H'] = df['RT'] // (60*60)\n",
    "df['M'] = (df['RT'] - (df['H']*60*60) )  // 60\n",
    "df['S'] = df['RT'] % 60\n",
    "\n",
    "df['Running Length'] = df['H'].apply(str).str.zfill(2)+':'+df['M'].apply(str).str.zfill(2)+':'+df['S'].apply(str).str.zfill(2)\n",
    "\n",
    "total_duration = df['RT'].iat[-1]\n",
    "df['RL'] = total_duration - df['RT']\n",
    "\n",
    "df['H1'] = df['RL'] // (60*60)\n",
    "df['M1'] = (df['RL'] - (df['H1']*60*60) )  // 60\n",
    "df['S1'] = df['RL'] % 60\n",
    "\n",
    "df['Remaining Time'] = df['H1'].apply(str).str.zfill(2)+':'+df['M1'].apply(str).str.zfill(2)+':'+df['S1'].apply(str).str.zfill(2)\n",
    "\n",
    "df2 = df.drop(['Seconds','RT','H','M','S','RL','H1','M1','S1'], axis=1)\n",
    "\n",
    "df2.to_csv('playlist_time.csv', index=False, encoding='utf-8') \n",
    "\n",
    "df2"
   ]
  },
  {
   "cell_type": "code",
   "execution_count": null,
   "metadata": {},
   "outputs": [],
   "source": []
  }
 ],
 "metadata": {
  "kernelspec": {
   "display_name": "Python 3",
   "language": "python",
   "name": "python3"
  },
  "language_info": {
   "codemirror_mode": {
    "name": "ipython",
    "version": 3
   },
   "file_extension": ".py",
   "mimetype": "text/x-python",
   "name": "python",
   "nbconvert_exporter": "python",
   "pygments_lexer": "ipython3",
   "version": "3.7.3"
  }
 },
 "nbformat": 4,
 "nbformat_minor": 2
}
